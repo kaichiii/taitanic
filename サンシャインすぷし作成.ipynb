{
  "nbformat": 4,
  "nbformat_minor": 0,
  "metadata": {
    "colab": {
      "provenance": [],
      "toc_visible": true,
      "include_colab_link": true
    },
    "kernelspec": {
      "name": "python3",
      "display_name": "Python 3"
    },
    "language_info": {
      "name": "python"
    }
  },
  "cells": [
    {
      "cell_type": "markdown",
      "metadata": {
        "id": "view-in-github",
        "colab_type": "text"
      },
      "source": [
        "<a href=\"https://colab.research.google.com/github/kaichiii/taitanic/blob/main/%E3%82%B5%E3%83%B3%E3%82%B7%E3%83%A3%E3%82%A4%E3%83%B3%E3%81%99%E3%81%B7%E3%81%97%E4%BD%9C%E6%88%90.ipynb\" target=\"_parent\"><img src=\"https://colab.research.google.com/assets/colab-badge.svg\" alt=\"Open In Colab\"/></a>"
      ]
    },
    {
      "cell_type": "code",
      "source": [
        "# 実績精度集計マスタからコピーして作ったスプシのURL\n",
        "ss_url = \"https://docs.google.com/spreadsheets/d/1CW28F8V0u0umYWbA4F4mgRL_oVC_INPB-BslNxMX-w8/edit#gid=133542358\""
      ],
      "metadata": {
        "id": "wHcUqdkd2o2l"
      },
      "execution_count": 1,
      "outputs": []
    },
    {
      "cell_type": "code",
      "execution_count": 2,
      "metadata": {
        "id": "UO-sj1T7gtn9",
        "colab": {
          "base_uri": "https://localhost:8080/"
        },
        "outputId": "509402ad-1b6f-428b-8f84-74a3fc34131e"
      },
      "outputs": [
        {
          "output_type": "stream",
          "name": "stdout",
          "text": [
            "Drive already mounted at /content/drive/; to attempt to forcibly remount, call drive.mount(\"/content/drive/\", force_remount=True).\n"
          ]
        }
      ],
      "source": [
        "from google.colab import auth\n",
        "auth.authenticate_user()\n",
        "\n",
        "from google.colab import drive \n",
        "drive.mount('/content/drive/')\n",
        "\n",
        "import gspread\n",
        "from google.auth import default\n",
        "creds, _ = default()\n",
        "\n",
        "gc = gspread.authorize(creds)\n",
        "workbook = gc.open_by_url(ss_url)"
      ]
    },
    {
      "cell_type": "code",
      "source": [
        "from statistics import stdev, mean\n",
        "import numpy as np\n",
        "import pandas as pd\n",
        "from tqdm.notebook import tqdm\n",
        "from google.cloud import bigquery\n",
        "\n",
        "pd.set_option('display.max_columns', 200)\n",
        "pd.set_option('display.max_rows', 200)"
      ],
      "metadata": {
        "id": "2uED7sO6hfI9"
      },
      "execution_count": 18,
      "outputs": []
    },
    {
      "cell_type": "code",
      "source": [
        "def write(df, sheet_title):\n",
        "  master_worksheet = workbook.worksheet(\"日別\")\n",
        "\n",
        "  sheet = workbook.duplicate_sheet(source_sheet_id=master_worksheet.id, new_sheet_name=sheet_title, insert_sheet_index=1)\n",
        "  sheet.add_rows(df.shape[0])\n",
        "\n",
        "  for row_index, row in df.iterrows():\n",
        "    row_index = row_index + 3\n",
        "    cell_list = sheet.range(row_index, 2, row_index, sheet.col_count)\n",
        "\n",
        "    target_row = []\n",
        "    target_row.append(row['sales_date'])\n",
        "    target_row.append(row['sum_sales_amount'])\n",
        "    target_row.append(row['sum_sales_qty'])\n",
        "    target_row.append(row['cnt_store'])\n",
        "    target_row.append(row['cnt_sku'])\n",
        "\n",
        "    for idx, data in enumerate(target_row):\n",
        "      cell_list[idx].value = data\n",
        "\n",
        "    res = sheet.update_cells(cell_list, value_input_option='USER_ENTERED')\n",
        "\n",
        "    \n",
        "\n"
      ],
      "metadata": {
        "id": "KE58lyW6gA7H"
      },
      "execution_count": 4,
      "outputs": []
    },
    {
      "cell_type": "code",
      "source": [
        "project_id = 'sails-1980'\n",
        "bq_client = bigquery.Client(project_id)"
      ],
      "metadata": {
        "id": "P_zbLp9EhiI6"
      },
      "execution_count": 5,
      "outputs": []
    },
    {
      "cell_type": "markdown",
      "source": [
        "# 従来vs実験の精度集計"
      ],
      "metadata": {
        "id": "vyLcaFDNmaJu"
      }
    },
    {
      "cell_type": "code",
      "source": [
        "query = f'''\n",
        "select\n",
        "  sales_date,\n",
        "  sum(cast(sales_amount as int64)) as sum_sales_amount,\n",
        "  sum(cast(sales_qty as int64)) as sum_sales_qty,\n",
        "  count(distinct store_id) as unique_store,\n",
        "  count(distinct sku_id) as unique_sku\n",
        "from `sails-1980.sunshine_data_check.sales_transaction_v000_20230412`\n",
        "group by \n",
        "  sales_date\n",
        "'''\n",
        "\n",
        "metric_df = bq_client.query(query).to_dataframe()\n",
        "\n",
        "print(metric_df.shape)\n",
        "metric_df"
      ],
      "metadata": {
        "colab": {
          "base_uri": "https://localhost:8080/",
          "height": 412
        },
        "id": "MREpH_BnmeBl",
        "outputId": "8d65adb7-427f-4e14-a484-d2d7f7d71772"
      },
      "execution_count": 6,
      "outputs": [
        {
          "output_type": "stream",
          "name": "stdout",
          "text": [
            "(11, 5)\n"
          ]
        },
        {
          "output_type": "execute_result",
          "data": {
            "text/plain": [
              "   sales_date  sum_sales_amount  sum_sales_qty  cnt_store  cnt_sku\n",
              "0    20220401          99203748         412872         29    24043\n",
              "1    20220402          91116736         355525         29    23748\n",
              "2    20220403         157970345         513578         29    25552\n",
              "3    20220404          74171635         312699         28    22310\n",
              "4    20220405          74898050         304486         29    22472\n",
              "5    20220406          97017984         372894         29    23793\n",
              "6    20220407          74564937         313178         29    22514\n",
              "7    20220408          86103158         338810         29    23147\n",
              "8    20220409         115785335         393652         29    24328\n",
              "9    20220410         140260084         474611         29    25250\n",
              "10   20220411          28387431         156509         29    14624"
            ],
            "text/html": [
              "\n",
              "  <div id=\"df-2025ce99-1fc2-4922-9f39-7a5627cec93f\">\n",
              "    <div class=\"colab-df-container\">\n",
              "      <div>\n",
              "<style scoped>\n",
              "    .dataframe tbody tr th:only-of-type {\n",
              "        vertical-align: middle;\n",
              "    }\n",
              "\n",
              "    .dataframe tbody tr th {\n",
              "        vertical-align: top;\n",
              "    }\n",
              "\n",
              "    .dataframe thead th {\n",
              "        text-align: right;\n",
              "    }\n",
              "</style>\n",
              "<table border=\"1\" class=\"dataframe\">\n",
              "  <thead>\n",
              "    <tr style=\"text-align: right;\">\n",
              "      <th></th>\n",
              "      <th>sales_date</th>\n",
              "      <th>sum_sales_amount</th>\n",
              "      <th>sum_sales_qty</th>\n",
              "      <th>cnt_store</th>\n",
              "      <th>cnt_sku</th>\n",
              "    </tr>\n",
              "  </thead>\n",
              "  <tbody>\n",
              "    <tr>\n",
              "      <th>0</th>\n",
              "      <td>20220401</td>\n",
              "      <td>99203748</td>\n",
              "      <td>412872</td>\n",
              "      <td>29</td>\n",
              "      <td>24043</td>\n",
              "    </tr>\n",
              "    <tr>\n",
              "      <th>1</th>\n",
              "      <td>20220402</td>\n",
              "      <td>91116736</td>\n",
              "      <td>355525</td>\n",
              "      <td>29</td>\n",
              "      <td>23748</td>\n",
              "    </tr>\n",
              "    <tr>\n",
              "      <th>2</th>\n",
              "      <td>20220403</td>\n",
              "      <td>157970345</td>\n",
              "      <td>513578</td>\n",
              "      <td>29</td>\n",
              "      <td>25552</td>\n",
              "    </tr>\n",
              "    <tr>\n",
              "      <th>3</th>\n",
              "      <td>20220404</td>\n",
              "      <td>74171635</td>\n",
              "      <td>312699</td>\n",
              "      <td>28</td>\n",
              "      <td>22310</td>\n",
              "    </tr>\n",
              "    <tr>\n",
              "      <th>4</th>\n",
              "      <td>20220405</td>\n",
              "      <td>74898050</td>\n",
              "      <td>304486</td>\n",
              "      <td>29</td>\n",
              "      <td>22472</td>\n",
              "    </tr>\n",
              "    <tr>\n",
              "      <th>5</th>\n",
              "      <td>20220406</td>\n",
              "      <td>97017984</td>\n",
              "      <td>372894</td>\n",
              "      <td>29</td>\n",
              "      <td>23793</td>\n",
              "    </tr>\n",
              "    <tr>\n",
              "      <th>6</th>\n",
              "      <td>20220407</td>\n",
              "      <td>74564937</td>\n",
              "      <td>313178</td>\n",
              "      <td>29</td>\n",
              "      <td>22514</td>\n",
              "    </tr>\n",
              "    <tr>\n",
              "      <th>7</th>\n",
              "      <td>20220408</td>\n",
              "      <td>86103158</td>\n",
              "      <td>338810</td>\n",
              "      <td>29</td>\n",
              "      <td>23147</td>\n",
              "    </tr>\n",
              "    <tr>\n",
              "      <th>8</th>\n",
              "      <td>20220409</td>\n",
              "      <td>115785335</td>\n",
              "      <td>393652</td>\n",
              "      <td>29</td>\n",
              "      <td>24328</td>\n",
              "    </tr>\n",
              "    <tr>\n",
              "      <th>9</th>\n",
              "      <td>20220410</td>\n",
              "      <td>140260084</td>\n",
              "      <td>474611</td>\n",
              "      <td>29</td>\n",
              "      <td>25250</td>\n",
              "    </tr>\n",
              "    <tr>\n",
              "      <th>10</th>\n",
              "      <td>20220411</td>\n",
              "      <td>28387431</td>\n",
              "      <td>156509</td>\n",
              "      <td>29</td>\n",
              "      <td>14624</td>\n",
              "    </tr>\n",
              "  </tbody>\n",
              "</table>\n",
              "</div>\n",
              "      <button class=\"colab-df-convert\" onclick=\"convertToInteractive('df-2025ce99-1fc2-4922-9f39-7a5627cec93f')\"\n",
              "              title=\"Convert this dataframe to an interactive table.\"\n",
              "              style=\"display:none;\">\n",
              "        \n",
              "  <svg xmlns=\"http://www.w3.org/2000/svg\" height=\"24px\"viewBox=\"0 0 24 24\"\n",
              "       width=\"24px\">\n",
              "    <path d=\"M0 0h24v24H0V0z\" fill=\"none\"/>\n",
              "    <path d=\"M18.56 5.44l.94 2.06.94-2.06 2.06-.94-2.06-.94-.94-2.06-.94 2.06-2.06.94zm-11 1L8.5 8.5l.94-2.06 2.06-.94-2.06-.94L8.5 2.5l-.94 2.06-2.06.94zm10 10l.94 2.06.94-2.06 2.06-.94-2.06-.94-.94-2.06-.94 2.06-2.06.94z\"/><path d=\"M17.41 7.96l-1.37-1.37c-.4-.4-.92-.59-1.43-.59-.52 0-1.04.2-1.43.59L10.3 9.45l-7.72 7.72c-.78.78-.78 2.05 0 2.83L4 21.41c.39.39.9.59 1.41.59.51 0 1.02-.2 1.41-.59l7.78-7.78 2.81-2.81c.8-.78.8-2.07 0-2.86zM5.41 20L4 18.59l7.72-7.72 1.47 1.35L5.41 20z\"/>\n",
              "  </svg>\n",
              "      </button>\n",
              "      \n",
              "  <style>\n",
              "    .colab-df-container {\n",
              "      display:flex;\n",
              "      flex-wrap:wrap;\n",
              "      gap: 12px;\n",
              "    }\n",
              "\n",
              "    .colab-df-convert {\n",
              "      background-color: #E8F0FE;\n",
              "      border: none;\n",
              "      border-radius: 50%;\n",
              "      cursor: pointer;\n",
              "      display: none;\n",
              "      fill: #1967D2;\n",
              "      height: 32px;\n",
              "      padding: 0 0 0 0;\n",
              "      width: 32px;\n",
              "    }\n",
              "\n",
              "    .colab-df-convert:hover {\n",
              "      background-color: #E2EBFA;\n",
              "      box-shadow: 0px 1px 2px rgba(60, 64, 67, 0.3), 0px 1px 3px 1px rgba(60, 64, 67, 0.15);\n",
              "      fill: #174EA6;\n",
              "    }\n",
              "\n",
              "    [theme=dark] .colab-df-convert {\n",
              "      background-color: #3B4455;\n",
              "      fill: #D2E3FC;\n",
              "    }\n",
              "\n",
              "    [theme=dark] .colab-df-convert:hover {\n",
              "      background-color: #434B5C;\n",
              "      box-shadow: 0px 1px 3px 1px rgba(0, 0, 0, 0.15);\n",
              "      filter: drop-shadow(0px 1px 2px rgba(0, 0, 0, 0.3));\n",
              "      fill: #FFFFFF;\n",
              "    }\n",
              "  </style>\n",
              "\n",
              "      <script>\n",
              "        const buttonEl =\n",
              "          document.querySelector('#df-2025ce99-1fc2-4922-9f39-7a5627cec93f button.colab-df-convert');\n",
              "        buttonEl.style.display =\n",
              "          google.colab.kernel.accessAllowed ? 'block' : 'none';\n",
              "\n",
              "        async function convertToInteractive(key) {\n",
              "          const element = document.querySelector('#df-2025ce99-1fc2-4922-9f39-7a5627cec93f');\n",
              "          const dataTable =\n",
              "            await google.colab.kernel.invokeFunction('convertToInteractive',\n",
              "                                                     [key], {});\n",
              "          if (!dataTable) return;\n",
              "\n",
              "          const docLinkHtml = 'Like what you see? Visit the ' +\n",
              "            '<a target=\"_blank\" href=https://colab.research.google.com/notebooks/data_table.ipynb>data table notebook</a>'\n",
              "            + ' to learn more about interactive tables.';\n",
              "          element.innerHTML = '';\n",
              "          dataTable['output_type'] = 'display_data';\n",
              "          await google.colab.output.renderOutput(dataTable, element);\n",
              "          const docLink = document.createElement('div');\n",
              "          docLink.innerHTML = docLinkHtml;\n",
              "          element.appendChild(docLink);\n",
              "        }\n",
              "      </script>\n",
              "    </div>\n",
              "  </div>\n",
              "  "
            ]
          },
          "metadata": {},
          "execution_count": 6
        }
      ]
    },
    {
      "cell_type": "code",
      "source": [
        "sheet_title = '日別4'\n",
        "write(metric_df, sheet_title)"
      ],
      "metadata": {
        "id": "jmqANG2_meEK"
      },
      "execution_count": 8,
      "outputs": []
    },
    {
      "cell_type": "code",
      "source": [
        "# def analysis(df,sheet_title):\n",
        "#   worksheet = workbook.worksheet(sheet_title)\n",
        "#   # C13を変えたい\n",
        "#   sum_amount=0\n",
        "#   for i in range(df.shape[0]):\n",
        "#     value=int(worksheet.cell(i+3,3).value)\n",
        "#     sum_amount+=value\n",
        "#   print(sum_amount/df.shape[0])\n",
        "  \n",
        "  sum_qty=0\n",
        "  for j in range(df.shape[0]):\n",
        "    value=int(worksheet.cell(j+3,4).value)\n",
        "    sum_qty+=value\n",
        "  print(sum_qty/df.shape[0])\n",
        "\n",
        "\n",
        "  "
      ],
      "metadata": {
        "id": "dBMHzSJfhzr_"
      },
      "execution_count": null,
      "outputs": []
    },
    {
      "cell_type": "code",
      "source": [
        "def analysis(df,sheet_title):\n",
        "  worksheet = workbook.worksheet(sheet_title)\n",
        "  sum_amount=[]\n",
        "  for i in range(df.shape[0]):\n",
        "    value=int(worksheet.cell(i+3,3).value)\n",
        "    sum_amount.append(value)\n",
        "  #mean_amountは平均,stdev_amountは標準偏差\n",
        "  mean_amount=int(mean(sum_amount))\n",
        "  stdev_amount=int(stdev(sum_amount))\n",
        "  stdev_amount_2=int(stdev(sum_amount))*2\n",
        "  stdev_amount_3=int(stdev(sum_amount))*3\n",
        "  sigma_plus_2_amount=mean_amount+stdev_amount_2\n",
        "  sigma_minus_2_amount=mean_amount-stdev_amount_2\n",
        "  sigma_plus_3_amount=mean_amount+stdev_amount_3\n",
        "  sigma_minus_3_amount=mean_amount-stdev_amount_3\n",
        "\n",
        "  sum_qty=[]\n",
        "  for j in range(df.shape[0]):\n",
        "    value=int(worksheet.cell(j+3,4).value)\n",
        "    sum_qty.append(value)\n",
        "  #mean_amountは平均,stdev_amountは標準偏差\n",
        "  mean_qty=int(mean(sum_qty))\n",
        "  stdev_qty=int(stdev(sum_qty))\n",
        "  stdev_qty_2=int(stdev(sum_qty))*2\n",
        "  stdev_qty_3=int(stdev(sum_qty))*3\n",
        "  sigma_plus_2_qty=mean_qty+stdev_qty_2\n",
        "  sigma_minus_2_qty=mean_qty-stdev_qty_2\n",
        "  sigma_plus_3_qty=mean_qty+stdev_qty_3\n",
        "  sigma_minus_3_qty=mean_qty-stdev_qty_3\n",
        "\n",
        "  sum_store=[]\n",
        "  for k in range(df.shape[0]):\n",
        "    value=int(worksheet.cell(j+3,4).value)\n",
        "    sum_store.append(value)\n",
        "  #mean_amountは平均,stdev_amountは標準偏差\n",
        "  mean_store=int(mean(sum_store))\n",
        "  stdev_store=int(stdev(sum_store))\n",
        "  stdev_store_2=int(stdev(sum_store))*2\n",
        "  stdev_store_3=int(stdev(sum_store))*3\n",
        "  sigma_plus_2_store=mean_store+stdev_store_2\n",
        "  sigma_minus_2_store=mean_store-stdev_store_2\n",
        "  sigma_plus_3_store=mean_store+stdev_store_3\n",
        "  sigma_minus_3_store=mean_store-stdev_store_3\n",
        "\n",
        "  sum_sku=[]\n",
        "  for l in range(df.shape[0]):\n",
        "    value=int(worksheet.cell(j+3,4).value)\n",
        "    sum_sku.append(value)\n",
        "  #mean_amountは平均,stdev_amountは標準偏差\n",
        "  mean_sku=int(mean(sum_sku))\n",
        "  stdev_sku=int(stdev(sum_sku))\n",
        "  stdev_sku_2=int(stdev(sum_sku))*2\n",
        "  stdev_sku_3=int(stdev(sum_sku))*3\n",
        "  sigma_plus_2_sku=mean_sku+stdev_sku_2\n",
        "  sigma_minus_2_sku=mean_sku-stdev_sku_2\n",
        "  sigma_plus_3_sku=mean_sku+stdev_sku_3\n",
        "  sigma_minus_3_sku=mean_sku-stdev_sku_3\n",
        "\n",
        "\n",
        "  \n",
        "  list_name=['average', 'Standard Deviation(σ)','2σ','3σ','average+2σ','average-2σ','average+3σ','average-3σ']\n",
        "  list_amount=[mean_amount, stdev_amount, stdev_amount_2, stdev_amount_3, sigma_plus_2_amount, sigma_minus_2_amount, sigma_plus_3_amount, sigma_minus_3_amount]\n",
        "  list_qty=[mean_qty, stdev_qty, stdev_qty_2, stdev_qty_3, sigma_plus_2_qty, sigma_minus_2_qty, sigma_plus_3_qty, sigma_minus_3_qty]\n",
        "  list_store=[mean_store, stdev_store, stdev_store_2, stdev_store_3, sigma_plus_2_store, sigma_minus_2_store, sigma_plus_3_store, sigma_minus_3_store]\n",
        "  list_sku=[mean_sku, stdev_sku, stdev_sku_2, stdev_sku_3, sigma_plus_2_sku, sigma_minus_2_sku, sigma_plus_3_sku, sigma_minus_3_sku]\n",
        "\n",
        "\n",
        "\n",
        "  for x in range(len(list_name)):\n",
        "    worksheet.update_cell(4+df.shape[0]+x, 1, list_name[x])\n",
        "\n",
        "  for y in range(len(list_amount)):\n",
        "    worksheet.update_cell(4+df.shape[0]+y, 3, list_amount[y])\n",
        "\n",
        "  for z in range(len(list_qty)):\n",
        "    worksheet.update_cell(4+df.shape[0]+z, 4, list_qty[z])\n",
        "\n",
        "  for a in range(len(list_store)):\n",
        "    worksheet.update_cell(4+df.shape[0]+a, 5, list_qty[a])\n",
        "\n",
        "  for b in range(len(list_sku)):\n",
        "    worksheet.update_cell(4+df.shape[0]+b,6, list_qty[b])\n",
        "\n",
        "\n",
        "\n",
        "\n",
        "  \n",
        "\n",
        "  \n",
        "\n",
        "  "
      ],
      "metadata": {
        "id": "-j2JrqJwihdK"
      },
      "execution_count": 49,
      "outputs": []
    },
    {
      "cell_type": "code",
      "source": [
        "analysis(metric_df,sheet_title)"
      ],
      "metadata": {
        "id": "as8EMELPV7v1"
      },
      "execution_count": 50,
      "outputs": []
    },
    {
      "cell_type": "code",
      "source": [],
      "metadata": {
        "id": "s6L6Pe3yxgur"
      },
      "execution_count": null,
      "outputs": []
    },
    {
      "cell_type": "code",
      "source": [],
      "metadata": {
        "id": "9r6PJY3-mJZ5"
      },
      "execution_count": null,
      "outputs": []
    }
  ]
}